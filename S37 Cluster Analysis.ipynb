{
 "cells": [
  {
   "cell_type": "markdown",
   "metadata": {},
   "source": [
    "# Cluster Analysis"
   ]
  },
  {
   "cell_type": "markdown",
   "metadata": {},
   "source": [
    "Cluster analysis is a multivariable statistical technique that groups observations on the basis of some of their features or variables they are described by.\n",
    "\n",
    "Observations in a dataset can be divided into different groups, and sometimes that is useful.\n",
    "\n",
    "Eg. 6 countries: USA, Canada, UK, France, Germany, Australia\n",
    "\n",
    "Imagine we had performed cluster analysis and ended up with 3 groups:\n",
    "- USA & Canada\n",
    "- UK, France & Germany\n",
    "- Australia\n",
    "\n",
    "We have been able to show countries in North America, Europe and Australia. We clustered them by geographic proximity."
   ]
  },
  {
   "cell_type": "markdown",
   "metadata": {},
   "source": [
    "It is possible to cluster them by other means too:\n",
    "- Northern Vs Southern hemisphere\n",
    "- English speaking Vs Non-English speaking\n",
    "\n",
    "All these clusters are possible, but very different.\n",
    "\n",
    "Cluster analysis is intuitive but tricky.\n",
    "\n",
    "The final goal of cluster analysis is to maximise the similarity of observations within a cluster and maximise the dissimilarity between clusters.\n",
    "\n",
    "Topics covered:\n",
    " - Several clustering problems\n",
    " - How to perform cluster analysis\n",
    " - How to find the optimal number of clusters\n",
    " - How to identify appropriate features\n",
    " - How to interpret results\n",
    " \n",
    "\n",
    "Cluster analysis is useful when undertaking market segmentation and image segmentation amongst others.\n",
    "\n",
    "Most data science people look into market segmentation at some point.\n",
    "\n",
    "Cluster analysis is often a preliminary step for all types of other analysis. Rarely the sole method used to draw conclusions.\n",
    "\n",
    "Clustering can be used with image segmentation to compress size of data, by reducing number of colours into x clusters."
   ]
  },
  {
   "cell_type": "markdown",
   "metadata": {},
   "source": [
    "When working with linear and logistic regression (classification), we were really looking at models that can be considered as supervised machine learning.\n",
    "\n",
    "Cluster analysis is more like unsupervised learning, where the outputs are not necessarily correct and work needs to be done to assess whether the number of clusters is correct, whether the output is correct at all, and whether the output is even useful.\n",
    "\n",
    "\n",
    "Classification: <br>\n",
    "Model (inputs) -> outputs -> correct values.  <br>\n",
    "Predicting an output category, given input data.\n",
    "\n",
    "Clustering: <br>\n",
    "Model (inputs) -> outputs -> ?? <br>\n",
    "Grouping data points together based on similarities among them and difference from others.\n"
   ]
  },
  {
   "cell_type": "markdown",
   "metadata": {},
   "source": [
    "## Math prerequisites"
   ]
  },
  {
   "cell_type": "markdown",
   "metadata": {},
   "source": [
    "Its important to undestand what a centroid is, and how to measure the distance between two data points"
   ]
  },
  {
   "cell_type": "markdown",
   "metadata": {},
   "source": [
    "The distance is referred to as Euclidian distance. In 2D space, it is essentially about calculating the distance between the two points using pythagoras' theorem.\n",
    "\n",
    "In 3D space, we have the squareroot of the sum of the square"
   ]
  }
 ],
 "metadata": {
  "kernelspec": {
   "display_name": "udemyDS",
   "language": "python",
   "name": "udemyds"
  },
  "language_info": {
   "codemirror_mode": {
    "name": "ipython",
    "version": 3
   },
   "file_extension": ".py",
   "mimetype": "text/x-python",
   "name": "python",
   "nbconvert_exporter": "python",
   "pygments_lexer": "ipython3",
   "version": "3.7.3"
  }
 },
 "nbformat": 4,
 "nbformat_minor": 4
}
